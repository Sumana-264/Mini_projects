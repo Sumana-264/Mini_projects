{
 "cells": [
  {
   "cell_type": "code",
   "execution_count": 1,
   "metadata": {},
   "outputs": [],
   "source": [
    "#importing libraries\n",
    "import pandas as pd\n",
    "import numpy as np\n",
    "from sklearn.metrics.pairwise import cosine_similarity\n",
    "from sklearn.feature_extraction.text import CountVectorizer"
   ]
  },
  {
   "cell_type": "code",
   "execution_count": 2,
   "metadata": {},
   "outputs": [],
   "source": [
    "#loading the data\n",
    "m_v = pd.read_csv(r\"C:\\Users\\Sumana bushireddy\\Downloads\\IMDB-Movie-Data.csv\")"
   ]
  },
  {
   "cell_type": "code",
   "execution_count": 3,
   "metadata": {
    "scrolled": true
   },
   "outputs": [
    {
     "data": {
      "text/html": [
       "<div>\n",
       "<style scoped>\n",
       "    .dataframe tbody tr th:only-of-type {\n",
       "        vertical-align: middle;\n",
       "    }\n",
       "\n",
       "    .dataframe tbody tr th {\n",
       "        vertical-align: top;\n",
       "    }\n",
       "\n",
       "    .dataframe thead th {\n",
       "        text-align: right;\n",
       "    }\n",
       "</style>\n",
       "<table border=\"1\" class=\"dataframe\">\n",
       "  <thead>\n",
       "    <tr style=\"text-align: right;\">\n",
       "      <th></th>\n",
       "      <th>Rank</th>\n",
       "      <th>Title</th>\n",
       "      <th>Genre</th>\n",
       "      <th>Description</th>\n",
       "      <th>Director</th>\n",
       "      <th>Actors</th>\n",
       "      <th>Year</th>\n",
       "      <th>Runtime (Minutes)</th>\n",
       "      <th>Rating</th>\n",
       "      <th>Votes</th>\n",
       "      <th>Revenue (Millions)</th>\n",
       "      <th>Metascore</th>\n",
       "    </tr>\n",
       "  </thead>\n",
       "  <tbody>\n",
       "    <tr>\n",
       "      <th>0</th>\n",
       "      <td>1</td>\n",
       "      <td>Guardians of the Galaxy</td>\n",
       "      <td>Action,Adventure,Sci-Fi</td>\n",
       "      <td>A group of intergalactic criminals are forced ...</td>\n",
       "      <td>James Gunn</td>\n",
       "      <td>Chris Pratt, Vin Diesel, Bradley Cooper, Zoe S...</td>\n",
       "      <td>2014</td>\n",
       "      <td>121</td>\n",
       "      <td>8.1</td>\n",
       "      <td>757074</td>\n",
       "      <td>333.13</td>\n",
       "      <td>76.0</td>\n",
       "    </tr>\n",
       "    <tr>\n",
       "      <th>1</th>\n",
       "      <td>2</td>\n",
       "      <td>Prometheus</td>\n",
       "      <td>Adventure,Mystery,Sci-Fi</td>\n",
       "      <td>Following clues to the origin of mankind, a te...</td>\n",
       "      <td>Ridley Scott</td>\n",
       "      <td>Noomi Rapace, Logan Marshall-Green, Michael Fa...</td>\n",
       "      <td>2012</td>\n",
       "      <td>124</td>\n",
       "      <td>7.0</td>\n",
       "      <td>485820</td>\n",
       "      <td>126.46</td>\n",
       "      <td>65.0</td>\n",
       "    </tr>\n",
       "    <tr>\n",
       "      <th>2</th>\n",
       "      <td>3</td>\n",
       "      <td>Split</td>\n",
       "      <td>Horror,Thriller</td>\n",
       "      <td>Three girls are kidnapped by a man with a diag...</td>\n",
       "      <td>M. Night Shyamalan</td>\n",
       "      <td>James McAvoy, Anya Taylor-Joy, Haley Lu Richar...</td>\n",
       "      <td>2016</td>\n",
       "      <td>117</td>\n",
       "      <td>7.3</td>\n",
       "      <td>157606</td>\n",
       "      <td>138.12</td>\n",
       "      <td>62.0</td>\n",
       "    </tr>\n",
       "    <tr>\n",
       "      <th>3</th>\n",
       "      <td>4</td>\n",
       "      <td>Sing</td>\n",
       "      <td>Animation,Comedy,Family</td>\n",
       "      <td>In a city of humanoid animals, a hustling thea...</td>\n",
       "      <td>Christophe Lourdelet</td>\n",
       "      <td>Matthew McConaughey,Reese Witherspoon, Seth Ma...</td>\n",
       "      <td>2016</td>\n",
       "      <td>108</td>\n",
       "      <td>7.2</td>\n",
       "      <td>60545</td>\n",
       "      <td>270.32</td>\n",
       "      <td>59.0</td>\n",
       "    </tr>\n",
       "    <tr>\n",
       "      <th>4</th>\n",
       "      <td>5</td>\n",
       "      <td>Suicide Squad</td>\n",
       "      <td>Action,Adventure,Fantasy</td>\n",
       "      <td>A secret government agency recruits some of th...</td>\n",
       "      <td>David Ayer</td>\n",
       "      <td>Will Smith, Jared Leto, Margot Robbie, Viola D...</td>\n",
       "      <td>2016</td>\n",
       "      <td>123</td>\n",
       "      <td>6.2</td>\n",
       "      <td>393727</td>\n",
       "      <td>325.02</td>\n",
       "      <td>40.0</td>\n",
       "    </tr>\n",
       "  </tbody>\n",
       "</table>\n",
       "</div>"
      ],
      "text/plain": [
       "   Rank                    Title                     Genre  \\\n",
       "0     1  Guardians of the Galaxy   Action,Adventure,Sci-Fi   \n",
       "1     2               Prometheus  Adventure,Mystery,Sci-Fi   \n",
       "2     3                    Split           Horror,Thriller   \n",
       "3     4                     Sing   Animation,Comedy,Family   \n",
       "4     5            Suicide Squad  Action,Adventure,Fantasy   \n",
       "\n",
       "                                         Description              Director  \\\n",
       "0  A group of intergalactic criminals are forced ...            James Gunn   \n",
       "1  Following clues to the origin of mankind, a te...          Ridley Scott   \n",
       "2  Three girls are kidnapped by a man with a diag...    M. Night Shyamalan   \n",
       "3  In a city of humanoid animals, a hustling thea...  Christophe Lourdelet   \n",
       "4  A secret government agency recruits some of th...            David Ayer   \n",
       "\n",
       "                                              Actors  Year  Runtime (Minutes)  \\\n",
       "0  Chris Pratt, Vin Diesel, Bradley Cooper, Zoe S...  2014                121   \n",
       "1  Noomi Rapace, Logan Marshall-Green, Michael Fa...  2012                124   \n",
       "2  James McAvoy, Anya Taylor-Joy, Haley Lu Richar...  2016                117   \n",
       "3  Matthew McConaughey,Reese Witherspoon, Seth Ma...  2016                108   \n",
       "4  Will Smith, Jared Leto, Margot Robbie, Viola D...  2016                123   \n",
       "\n",
       "   Rating   Votes  Revenue (Millions)  Metascore  \n",
       "0     8.1  757074              333.13       76.0  \n",
       "1     7.0  485820              126.46       65.0  \n",
       "2     7.3  157606              138.12       62.0  \n",
       "3     7.2   60545              270.32       59.0  \n",
       "4     6.2  393727              325.02       40.0  "
      ]
     },
     "execution_count": 3,
     "metadata": {},
     "output_type": "execute_result"
    }
   ],
   "source": [
    "#seeing the first few rows of the data\n",
    "m_v.head(5)"
   ]
  },
  {
   "cell_type": "code",
   "execution_count": 20,
   "metadata": {},
   "outputs": [],
   "source": [
    "#selecting important columns , title, crew, director, rating and some are important\n",
    "m_v['Movie_id'] = range(0,1000) "
   ]
  },
  {
   "cell_type": "code",
   "execution_count": 21,
   "metadata": {},
   "outputs": [
    {
     "data": {
      "text/plain": [
       "(1000, 14)"
      ]
     },
     "execution_count": 21,
     "metadata": {},
     "output_type": "execute_result"
    }
   ],
   "source": [
    "#getting the count of rows and columns of dataset\n",
    "m_v.shape"
   ]
  },
  {
   "cell_type": "code",
   "execution_count": 22,
   "metadata": {},
   "outputs": [],
   "source": [
    "#creating the list of some important columns\n",
    "col = ['Actors','Director','Genre','Title']"
   ]
  },
  {
   "cell_type": "code",
   "execution_count": 23,
   "metadata": {},
   "outputs": [
    {
     "data": {
      "text/html": [
       "<div>\n",
       "<style scoped>\n",
       "    .dataframe tbody tr th:only-of-type {\n",
       "        vertical-align: middle;\n",
       "    }\n",
       "\n",
       "    .dataframe tbody tr th {\n",
       "        vertical-align: top;\n",
       "    }\n",
       "\n",
       "    .dataframe thead th {\n",
       "        text-align: right;\n",
       "    }\n",
       "</style>\n",
       "<table border=\"1\" class=\"dataframe\">\n",
       "  <thead>\n",
       "    <tr style=\"text-align: right;\">\n",
       "      <th></th>\n",
       "      <th>Actors</th>\n",
       "      <th>Director</th>\n",
       "      <th>Genre</th>\n",
       "      <th>Title</th>\n",
       "    </tr>\n",
       "  </thead>\n",
       "  <tbody>\n",
       "    <tr>\n",
       "      <th>0</th>\n",
       "      <td>Chris Pratt, Vin Diesel, Bradley Cooper, Zoe S...</td>\n",
       "      <td>James Gunn</td>\n",
       "      <td>Action,Adventure,Sci-Fi</td>\n",
       "      <td>Guardians of the Galaxy</td>\n",
       "    </tr>\n",
       "    <tr>\n",
       "      <th>1</th>\n",
       "      <td>Noomi Rapace, Logan Marshall-Green, Michael Fa...</td>\n",
       "      <td>Ridley Scott</td>\n",
       "      <td>Adventure,Mystery,Sci-Fi</td>\n",
       "      <td>Prometheus</td>\n",
       "    </tr>\n",
       "    <tr>\n",
       "      <th>2</th>\n",
       "      <td>James McAvoy, Anya Taylor-Joy, Haley Lu Richar...</td>\n",
       "      <td>M. Night Shyamalan</td>\n",
       "      <td>Horror,Thriller</td>\n",
       "      <td>Split</td>\n",
       "    </tr>\n",
       "    <tr>\n",
       "      <th>3</th>\n",
       "      <td>Matthew McConaughey,Reese Witherspoon, Seth Ma...</td>\n",
       "      <td>Christophe Lourdelet</td>\n",
       "      <td>Animation,Comedy,Family</td>\n",
       "      <td>Sing</td>\n",
       "    </tr>\n",
       "    <tr>\n",
       "      <th>4</th>\n",
       "      <td>Will Smith, Jared Leto, Margot Robbie, Viola D...</td>\n",
       "      <td>David Ayer</td>\n",
       "      <td>Action,Adventure,Fantasy</td>\n",
       "      <td>Suicide Squad</td>\n",
       "    </tr>\n",
       "  </tbody>\n",
       "</table>\n",
       "</div>"
      ],
      "text/plain": [
       "                                              Actors              Director  \\\n",
       "0  Chris Pratt, Vin Diesel, Bradley Cooper, Zoe S...            James Gunn   \n",
       "1  Noomi Rapace, Logan Marshall-Green, Michael Fa...          Ridley Scott   \n",
       "2  James McAvoy, Anya Taylor-Joy, Haley Lu Richar...    M. Night Shyamalan   \n",
       "3  Matthew McConaughey,Reese Witherspoon, Seth Ma...  Christophe Lourdelet   \n",
       "4  Will Smith, Jared Leto, Margot Robbie, Viola D...            David Ayer   \n",
       "\n",
       "                      Genre                    Title  \n",
       "0   Action,Adventure,Sci-Fi  Guardians of the Galaxy  \n",
       "1  Adventure,Mystery,Sci-Fi               Prometheus  \n",
       "2           Horror,Thriller                    Split  \n",
       "3   Animation,Comedy,Family                     Sing  \n",
       "4  Action,Adventure,Fantasy            Suicide Squad  "
      ]
     },
     "execution_count": 23,
     "metadata": {},
     "output_type": "execute_result"
    }
   ],
   "source": [
    "#showing the data containing imp columns\n",
    "m_v[col].head(5)"
   ]
  },
  {
   "cell_type": "code",
   "execution_count": 24,
   "metadata": {},
   "outputs": [
    {
     "data": {
      "text/plain": [
       "False"
      ]
     },
     "execution_count": 24,
     "metadata": {},
     "output_type": "execute_result"
    }
   ],
   "source": [
    "#to check any missing values in dataset\n",
    "m_v[col].isnull().values.any()\n",
    "#if there are any null values we will get true else false"
   ]
  },
  {
   "cell_type": "code",
   "execution_count": 25,
   "metadata": {},
   "outputs": [],
   "source": [
    "#creating a function to combine values of important columns into a string\n",
    "def imp_features(data):\n",
    "    important_features=[]\n",
    "    for i in range(0, data.shape[0]):\n",
    "        important_features.append(data['Actors'][i]+\" \"+data['Director'][i]+\" \"+data['Genre'][i]+\" \"+data['Title'][i]+\" \")\n",
    "    return important_features"
   ]
  },
  {
   "cell_type": "code",
   "execution_count": 26,
   "metadata": {},
   "outputs": [
    {
     "data": {
      "text/html": [
       "<div>\n",
       "<style scoped>\n",
       "    .dataframe tbody tr th:only-of-type {\n",
       "        vertical-align: middle;\n",
       "    }\n",
       "\n",
       "    .dataframe tbody tr th {\n",
       "        vertical-align: top;\n",
       "    }\n",
       "\n",
       "    .dataframe thead th {\n",
       "        text-align: right;\n",
       "    }\n",
       "</style>\n",
       "<table border=\"1\" class=\"dataframe\">\n",
       "  <thead>\n",
       "    <tr style=\"text-align: right;\">\n",
       "      <th></th>\n",
       "      <th>Rank</th>\n",
       "      <th>Title</th>\n",
       "      <th>Genre</th>\n",
       "      <th>Description</th>\n",
       "      <th>Director</th>\n",
       "      <th>Actors</th>\n",
       "      <th>Year</th>\n",
       "      <th>Runtime (Minutes)</th>\n",
       "      <th>Rating</th>\n",
       "      <th>Votes</th>\n",
       "      <th>Revenue (Millions)</th>\n",
       "      <th>Metascore</th>\n",
       "      <th>important_features</th>\n",
       "      <th>Movie_id</th>\n",
       "    </tr>\n",
       "  </thead>\n",
       "  <tbody>\n",
       "    <tr>\n",
       "      <th>0</th>\n",
       "      <td>1</td>\n",
       "      <td>Guardians of the Galaxy</td>\n",
       "      <td>Action,Adventure,Sci-Fi</td>\n",
       "      <td>A group of intergalactic criminals are forced ...</td>\n",
       "      <td>James Gunn</td>\n",
       "      <td>Chris Pratt, Vin Diesel, Bradley Cooper, Zoe S...</td>\n",
       "      <td>2014</td>\n",
       "      <td>121</td>\n",
       "      <td>8.1</td>\n",
       "      <td>757074</td>\n",
       "      <td>333.13</td>\n",
       "      <td>76.0</td>\n",
       "      <td>Chris Pratt, Vin Diesel, Bradley Cooper, Zoe S...</td>\n",
       "      <td>0</td>\n",
       "    </tr>\n",
       "    <tr>\n",
       "      <th>1</th>\n",
       "      <td>2</td>\n",
       "      <td>Prometheus</td>\n",
       "      <td>Adventure,Mystery,Sci-Fi</td>\n",
       "      <td>Following clues to the origin of mankind, a te...</td>\n",
       "      <td>Ridley Scott</td>\n",
       "      <td>Noomi Rapace, Logan Marshall-Green, Michael Fa...</td>\n",
       "      <td>2012</td>\n",
       "      <td>124</td>\n",
       "      <td>7.0</td>\n",
       "      <td>485820</td>\n",
       "      <td>126.46</td>\n",
       "      <td>65.0</td>\n",
       "      <td>Noomi Rapace, Logan Marshall-Green, Michael Fa...</td>\n",
       "      <td>1</td>\n",
       "    </tr>\n",
       "    <tr>\n",
       "      <th>2</th>\n",
       "      <td>3</td>\n",
       "      <td>Split</td>\n",
       "      <td>Horror,Thriller</td>\n",
       "      <td>Three girls are kidnapped by a man with a diag...</td>\n",
       "      <td>M. Night Shyamalan</td>\n",
       "      <td>James McAvoy, Anya Taylor-Joy, Haley Lu Richar...</td>\n",
       "      <td>2016</td>\n",
       "      <td>117</td>\n",
       "      <td>7.3</td>\n",
       "      <td>157606</td>\n",
       "      <td>138.12</td>\n",
       "      <td>62.0</td>\n",
       "      <td>James McAvoy, Anya Taylor-Joy, Haley Lu Richar...</td>\n",
       "      <td>2</td>\n",
       "    </tr>\n",
       "    <tr>\n",
       "      <th>3</th>\n",
       "      <td>4</td>\n",
       "      <td>Sing</td>\n",
       "      <td>Animation,Comedy,Family</td>\n",
       "      <td>In a city of humanoid animals, a hustling thea...</td>\n",
       "      <td>Christophe Lourdelet</td>\n",
       "      <td>Matthew McConaughey,Reese Witherspoon, Seth Ma...</td>\n",
       "      <td>2016</td>\n",
       "      <td>108</td>\n",
       "      <td>7.2</td>\n",
       "      <td>60545</td>\n",
       "      <td>270.32</td>\n",
       "      <td>59.0</td>\n",
       "      <td>Matthew McConaughey,Reese Witherspoon, Seth Ma...</td>\n",
       "      <td>3</td>\n",
       "    </tr>\n",
       "    <tr>\n",
       "      <th>4</th>\n",
       "      <td>5</td>\n",
       "      <td>Suicide Squad</td>\n",
       "      <td>Action,Adventure,Fantasy</td>\n",
       "      <td>A secret government agency recruits some of th...</td>\n",
       "      <td>David Ayer</td>\n",
       "      <td>Will Smith, Jared Leto, Margot Robbie, Viola D...</td>\n",
       "      <td>2016</td>\n",
       "      <td>123</td>\n",
       "      <td>6.2</td>\n",
       "      <td>393727</td>\n",
       "      <td>325.02</td>\n",
       "      <td>40.0</td>\n",
       "      <td>Will Smith, Jared Leto, Margot Robbie, Viola D...</td>\n",
       "      <td>4</td>\n",
       "    </tr>\n",
       "  </tbody>\n",
       "</table>\n",
       "</div>"
      ],
      "text/plain": [
       "   Rank                    Title                     Genre  \\\n",
       "0     1  Guardians of the Galaxy   Action,Adventure,Sci-Fi   \n",
       "1     2               Prometheus  Adventure,Mystery,Sci-Fi   \n",
       "2     3                    Split           Horror,Thriller   \n",
       "3     4                     Sing   Animation,Comedy,Family   \n",
       "4     5            Suicide Squad  Action,Adventure,Fantasy   \n",
       "\n",
       "                                         Description              Director  \\\n",
       "0  A group of intergalactic criminals are forced ...            James Gunn   \n",
       "1  Following clues to the origin of mankind, a te...          Ridley Scott   \n",
       "2  Three girls are kidnapped by a man with a diag...    M. Night Shyamalan   \n",
       "3  In a city of humanoid animals, a hustling thea...  Christophe Lourdelet   \n",
       "4  A secret government agency recruits some of th...            David Ayer   \n",
       "\n",
       "                                              Actors  Year  Runtime (Minutes)  \\\n",
       "0  Chris Pratt, Vin Diesel, Bradley Cooper, Zoe S...  2014                121   \n",
       "1  Noomi Rapace, Logan Marshall-Green, Michael Fa...  2012                124   \n",
       "2  James McAvoy, Anya Taylor-Joy, Haley Lu Richar...  2016                117   \n",
       "3  Matthew McConaughey,Reese Witherspoon, Seth Ma...  2016                108   \n",
       "4  Will Smith, Jared Leto, Margot Robbie, Viola D...  2016                123   \n",
       "\n",
       "   Rating   Votes  Revenue (Millions)  Metascore  \\\n",
       "0     8.1  757074              333.13       76.0   \n",
       "1     7.0  485820              126.46       65.0   \n",
       "2     7.3  157606              138.12       62.0   \n",
       "3     7.2   60545              270.32       59.0   \n",
       "4     6.2  393727              325.02       40.0   \n",
       "\n",
       "                                  important_features  Movie_id  \n",
       "0  Chris Pratt, Vin Diesel, Bradley Cooper, Zoe S...         0  \n",
       "1  Noomi Rapace, Logan Marshall-Green, Michael Fa...         1  \n",
       "2  James McAvoy, Anya Taylor-Joy, Haley Lu Richar...         2  \n",
       "3  Matthew McConaughey,Reese Witherspoon, Seth Ma...         3  \n",
       "4  Will Smith, Jared Leto, Margot Robbie, Viola D...         4  "
      ]
     },
     "execution_count": 26,
     "metadata": {},
     "output_type": "execute_result"
    }
   ],
   "source": [
    "#creating a column to hold the combined strings\n",
    "m_v['important_features'] = imp_features(m_v)\n",
    "#to show the data after added the combined string of important columns\n",
    "m_v.head(5)"
   ]
  },
  {
   "cell_type": "code",
   "execution_count": 27,
   "metadata": {},
   "outputs": [],
   "source": [
    "#converting a text to matrix\n",
    "cm = CountVectorizer().fit_transform(m_v['important_features'])"
   ]
  },
  {
   "cell_type": "code",
   "execution_count": 28,
   "metadata": {},
   "outputs": [],
   "source": [
    "#getting the cosine similarity matrix from count matrix\n",
    "cs = cosine_similarity(cm)"
   ]
  },
  {
   "cell_type": "code",
   "execution_count": 29,
   "metadata": {},
   "outputs": [
    {
     "name": "stdout",
     "output_type": "stream",
     "text": [
      "[[1.         0.1767767  0.06085806 ... 0.0571662  0.06537205 0.        ]\n",
      " [0.1767767  1.         0.         ... 0.         0.06933752 0.        ]\n",
      " [0.06085806 0.         1.         ... 0.         0.         0.        ]\n",
      " ...\n",
      " [0.0571662  0.         0.         ... 1.         0.06726728 0.        ]\n",
      " [0.06537205 0.06933752 0.         ... 0.06726728 1.         0.07161149]\n",
      " [0.         0.         0.         ... 0.         0.07161149 1.        ]]\n"
     ]
    }
   ],
   "source": [
    "#printing the cosine similarity matrix\n",
    "print(cs)\n",
    "#it contains values from 0 to 1, 1 indicates 100% similarity for a movie\n",
    "#here in the matrix each row is a movie and each column is a movie"
   ]
  },
  {
   "cell_type": "code",
   "execution_count": 30,
   "metadata": {},
   "outputs": [
    {
     "data": {
      "text/plain": [
       "(1000, 1000)"
      ]
     },
     "execution_count": 30,
     "metadata": {},
     "output_type": "execute_result"
    }
   ],
   "source": [
    "#checking the shape of the cs matrix\n",
    "#it will be an nXn matrix\n",
    "cs.shape"
   ]
  },
  {
   "cell_type": "code",
   "execution_count": 51,
   "metadata": {},
   "outputs": [],
   "source": [
    "#getting the title of the movie that the user likes\n",
    "title = \"Inferno\""
   ]
  },
  {
   "cell_type": "code",
   "execution_count": 52,
   "metadata": {},
   "outputs": [],
   "source": [
    "#finding the movie id\n",
    "movie_id = m_v[m_v.Title == title]['Movie_id'].values[0]"
   ]
  },
  {
   "cell_type": "code",
   "execution_count": 53,
   "metadata": {},
   "outputs": [],
   "source": [
    "#creating a list enum for getting the similarity score\n",
    "#looks similar to [(movie_id, similarity_score)]\n",
    "scores = list(enumerate(cs[movie_id]))"
   ]
  },
  {
   "cell_type": "code",
   "execution_count": 54,
   "metadata": {},
   "outputs": [],
   "source": [
    "#sorting the list\n",
    "#lanbda value takes input x and returns the element at given position \n",
    "#x:x[1] shows the similarity score\n",
    "#sorting on the similarity score\n",
    "#sorting in descending order coz we will get high similarity movie at first\n",
    "sorted_scores = sorted(scores, key = lambda x:x[1], reverse = True)\n",
    "#first element will be the movie itself, co it will have 100% similarity\n",
    "#so we will take movies after the first element\n",
    "sorted_scores = sorted_scores[1:]"
   ]
  },
  {
   "cell_type": "code",
   "execution_count": 55,
   "metadata": {},
   "outputs": [
    {
     "name": "stdout",
     "output_type": "stream",
     "text": [
      "[(91, 0.3571428571428572), (375, 0.3571428571428572), (558, 0.2916059217599022), (12, 0.2672612419124244), (368, 0.2672612419124244), (414, 0.2672612419124244), (733, 0.2672612419124244), (163, 0.25197631533948484), (568, 0.25197631533948484), (609, 0.24525573579398632), (89, 0.2142857142857143), (101, 0.2142857142857143), (275, 0.2142857142857143), (322, 0.2142857142857143), (452, 0.2142857142857143), (161, 0.20701966780270625), (301, 0.20701966780270625), (334, 0.20701966780270625), (355, 0.20701966780270625), (369, 0.20701966780270625), (402, 0.20701966780270625), (536, 0.20701966780270625), (688, 0.20701966780270625), (694, 0.20701966780270625), (787, 0.20701966780270625), (281, 0.2004459314343183), (576, 0.2004459314343183), (758, 0.2004459314343183), (869, 0.2004459314343183), (901, 0.2004459314343183), (969, 0.2004459314343183), (8, 0.19446111706564934), (85, 0.19446111706564934), (105, 0.19446111706564934), (200, 0.19446111706564934), (203, 0.19446111706564934), (214, 0.19446111706564934), (233, 0.19446111706564934), (267, 0.19446111706564934), (357, 0.19446111706564934), (433, 0.19446111706564934), (496, 0.19446111706564934), (516, 0.19446111706564934), (67, 0.18898223650461363), (918, 0.18898223650461363), (60, 0.18394180184548975), (86, 0.18394180184548975), (177, 0.18394180184548975), (460, 0.18394180184548975), (465, 0.18394180184548975), (806, 0.1709408646894569), (619, 0.16718346377260587), (767, 0.16366341767699433), (59, 0.14824986333222026), (72, 0.14824986333222026), (284, 0.14824986333222026), (637, 0.14824986333222026), (769, 0.14824986333222026), (13, 0.14285714285714288), (26, 0.14285714285714288), (74, 0.14285714285714288), (79, 0.14285714285714288), (87, 0.14285714285714288), (100, 0.14285714285714288), (127, 0.14285714285714288), (134, 0.14285714285714288), (169, 0.14285714285714288), (175, 0.14285714285714288), (192, 0.14285714285714288), (194, 0.14285714285714288), (204, 0.14285714285714288), (228, 0.14285714285714288), (248, 0.14285714285714288), (256, 0.14285714285714288), (270, 0.14285714285714288), (288, 0.14285714285714288), (372, 0.14285714285714288), (373, 0.14285714285714288), (400, 0.14285714285714288), (407, 0.14285714285714288), (448, 0.14285714285714288), (466, 0.14285714285714288), (482, 0.14285714285714288), (511, 0.14285714285714288), (517, 0.14285714285714288), (599, 0.14285714285714288), (634, 0.14285714285714288), (718, 0.14285714285714288), (789, 0.14285714285714288), (802, 0.14285714285714288), (856, 0.14285714285714288), (920, 0.14285714285714288), (4, 0.13801311186847084), (17, 0.13801311186847084), (20, 0.13801311186847084), (29, 0.13801311186847084), (33, 0.13801311186847084), (53, 0.13801311186847084), (84, 0.13801311186847084), (117, 0.13801311186847084), (140, 0.13801311186847084), (153, 0.13801311186847084), (164, 0.13801311186847084), (179, 0.13801311186847084), (210, 0.13801311186847084), (212, 0.13801311186847084), (217, 0.13801311186847084), (227, 0.13801311186847084), (232, 0.13801311186847084), (239, 0.13801311186847084), (319, 0.13801311186847084), (340, 0.13801311186847084), (341, 0.13801311186847084), (344, 0.13801311186847084), (379, 0.13801311186847084), (385, 0.13801311186847084), (391, 0.13801311186847084), (472, 0.13801311186847084), (484, 0.13801311186847084), (493, 0.13801311186847084), (526, 0.13801311186847084), (569, 0.13801311186847084), (577, 0.13801311186847084), (592, 0.13801311186847084), (597, 0.13801311186847084), (600, 0.13801311186847084), (625, 0.13801311186847084), (663, 0.13801311186847084), (671, 0.13801311186847084), (676, 0.13801311186847084), (687, 0.13801311186847084), (693, 0.13801311186847084), (702, 0.13801311186847084), (728, 0.13801311186847084), (735, 0.13801311186847084), (753, 0.13801311186847084), (771, 0.13801311186847084), (780, 0.13801311186847084), (810, 0.13801311186847084), (815, 0.13801311186847084), (833, 0.13801311186847084), (880, 0.13801311186847084), (904, 0.13801311186847084), (5, 0.1336306209562122), (22, 0.1336306209562122), (32, 0.1336306209562122), (38, 0.1336306209562122), (51, 0.1336306209562122), (54, 0.1336306209562122), (80, 0.1336306209562122), (83, 0.1336306209562122), (95, 0.1336306209562122), (104, 0.1336306209562122), (124, 0.1336306209562122), (125, 0.1336306209562122), (129, 0.1336306209562122), (199, 0.1336306209562122), (205, 0.1336306209562122), (220, 0.1336306209562122), (272, 0.1336306209562122), (276, 0.1336306209562122), (283, 0.1336306209562122), (287, 0.1336306209562122), (294, 0.1336306209562122), (300, 0.1336306209562122), (343, 0.1336306209562122), (345, 0.1336306209562122), (383, 0.1336306209562122), (387, 0.1336306209562122), (389, 0.1336306209562122), (424, 0.1336306209562122), (431, 0.1336306209562122), (432, 0.1336306209562122), (454, 0.1336306209562122), (469, 0.1336306209562122), (527, 0.1336306209562122), (528, 0.1336306209562122), (529, 0.1336306209562122), (537, 0.1336306209562122), (552, 0.1336306209562122), (581, 0.1336306209562122), (601, 0.1336306209562122), (603, 0.1336306209562122), (615, 0.1336306209562122), (660, 0.1336306209562122), (673, 0.1336306209562122), (704, 0.1336306209562122), (770, 0.1336306209562122), (781, 0.1336306209562122), (794, 0.1336306209562122), (854, 0.1336306209562122), (924, 0.1336306209562122), (959, 0.1336306209562122), (993, 0.1336306209562122), (24, 0.12964074471043288), (37, 0.12964074471043288), (48, 0.12964074471043288), (65, 0.12964074471043288), (107, 0.12964074471043288), (166, 0.12964074471043288), (180, 0.12964074471043288), (215, 0.12964074471043288), (268, 0.12964074471043288), (362, 0.12964074471043288), (388, 0.12964074471043288), (396, 0.12964074471043288), (450, 0.12964074471043288), (491, 0.12964074471043288), (575, 0.12964074471043288), (626, 0.12964074471043288), (657, 0.12964074471043288), (698, 0.12964074471043288), (712, 0.12964074471043288), (785, 0.12964074471043288), (878, 0.12964074471043288), (879, 0.12964074471043288), (916, 0.12964074471043288), (919, 0.12964074471043288), (963, 0.12964074471043288), (967, 0.12964074471043288), (0, 0.12598815766974242), (126, 0.12598815766974242), (234, 0.12598815766974242), (243, 0.12598815766974242), (253, 0.12598815766974242), (279, 0.12598815766974242), (316, 0.12598815766974242), (325, 0.12598815766974242), (384, 0.12598815766974242), (438, 0.12598815766974242), (474, 0.12598815766974242), (535, 0.12598815766974242), (564, 0.12598815766974242), (617, 0.12598815766974242), (827, 0.12598815766974242), (871, 0.12598815766974242), (881, 0.12598815766974242), (903, 0.12598815766974242), (948, 0.12598815766974242), (990, 0.12598815766974242), (35, 0.12262786789699316), (50, 0.12262786789699316), (136, 0.12262786789699316), (156, 0.12262786789699316), (162, 0.12262786789699316), (195, 0.12262786789699316), (216, 0.12262786789699316), (434, 0.12262786789699316), (560, 0.12262786789699316), (710, 0.12262786789699316), (772, 0.12262786789699316), (809, 0.12262786789699316), (45, 0.11952286093343936), (75, 0.11952286093343936), (78, 0.11952286093343936), (426, 0.11952286093343936), (566, 0.11952286093343936), (662, 0.11952286093343936), (822, 0.11952286093343936), (991, 0.11952286093343936), (94, 0.11664236870396087), (264, 0.11664236870396087), (408, 0.11664236870396087), (578, 0.11664236870396087), (680, 0.11664236870396087), (843, 0.11664236870396087), (739, 0.11396057645963795), (308, 0.11145564251507058), (629, 0.10910894511799621), (176, 0.10690449676496977), (430, 0.07715167498104597), (457, 0.07715167498104597), (863, 0.07715167498104597), (160, 0.07412493166611013), (317, 0.07412493166611013), (410, 0.07412493166611013), (437, 0.07412493166611013), (462, 0.07412493166611013), (624, 0.07412493166611013), (740, 0.07412493166611013), (816, 0.07412493166611013), (844, 0.07412493166611013), (846, 0.07412493166611013), (890, 0.07412493166611013), (966, 0.07412493166611013), (998, 0.07412493166611013), (9, 0.07142857142857144), (47, 0.07142857142857144), (55, 0.07142857142857144), (71, 0.07142857142857144), (90, 0.07142857142857144), (92, 0.07142857142857144), (103, 0.07142857142857144), (113, 0.07142857142857144), (123, 0.07142857142857144), (138, 0.07142857142857144), (170, 0.07142857142857144), (174, 0.07142857142857144), (183, 0.07142857142857144), (188, 0.07142857142857144), (240, 0.07142857142857144), (242, 0.07142857142857144), (285, 0.07142857142857144), (329, 0.07142857142857144), (330, 0.07142857142857144), (346, 0.07142857142857144), (347, 0.07142857142857144), (363, 0.07142857142857144), (370, 0.07142857142857144), (386, 0.07142857142857144), (390, 0.07142857142857144), (409, 0.07142857142857144), (413, 0.07142857142857144), (420, 0.07142857142857144), (435, 0.07142857142857144), (446, 0.07142857142857144), (464, 0.07142857142857144), (488, 0.07142857142857144), (492, 0.07142857142857144), (499, 0.07142857142857144), (522, 0.07142857142857144), (524, 0.07142857142857144), (548, 0.07142857142857144), (565, 0.07142857142857144), (587, 0.07142857142857144), (589, 0.07142857142857144), (620, 0.07142857142857144), (666, 0.07142857142857144), (703, 0.07142857142857144), (750, 0.07142857142857144), (763, 0.07142857142857144), (765, 0.07142857142857144), (777, 0.07142857142857144), (801, 0.07142857142857144), (828, 0.07142857142857144), (834, 0.07142857142857144), (836, 0.07142857142857144), (850, 0.07142857142857144), (873, 0.07142857142857144), (883, 0.07142857142857144), (907, 0.07142857142857144), (947, 0.07142857142857144), (956, 0.07142857142857144), (968, 0.07142857142857144), (984, 0.07142857142857144), (14, 0.06900655593423542), (23, 0.06900655593423542), (31, 0.06900655593423542), (36, 0.06900655593423542), (40, 0.06900655593423542), (56, 0.06900655593423542), (69, 0.06900655593423542), (77, 0.06900655593423542), (93, 0.06900655593423542), (99, 0.06900655593423542), (119, 0.06900655593423542), (121, 0.06900655593423542), (147, 0.06900655593423542), (150, 0.06900655593423542), (159, 0.06900655593423542), (172, 0.06900655593423542), (213, 0.06900655593423542), (241, 0.06900655593423542), (245, 0.06900655593423542), (254, 0.06900655593423542), (274, 0.06900655593423542), (277, 0.06900655593423542), (298, 0.06900655593423542), (303, 0.06900655593423542), (328, 0.06900655593423542), (331, 0.06900655593423542), (354, 0.06900655593423542), (376, 0.06900655593423542), (398, 0.06900655593423542), (403, 0.06900655593423542), (412, 0.06900655593423542), (453, 0.06900655593423542), (468, 0.06900655593423542), (470, 0.06900655593423542), (485, 0.06900655593423542), (513, 0.06900655593423542), (521, 0.06900655593423542), (538, 0.06900655593423542), (557, 0.06900655593423542), (559, 0.06900655593423542), (580, 0.06900655593423542), (588, 0.06900655593423542), (598, 0.06900655593423542), (618, 0.06900655593423542), (621, 0.06900655593423542), (649, 0.06900655593423542), (651, 0.06900655593423542), (668, 0.06900655593423542), (669, 0.06900655593423542), (670, 0.06900655593423542), (691, 0.06900655593423542), (709, 0.06900655593423542), (721, 0.06900655593423542), (731, 0.06900655593423542), (743, 0.06900655593423542), (752, 0.06900655593423542), (755, 0.06900655593423542), (759, 0.06900655593423542), (760, 0.06900655593423542), (766, 0.06900655593423542), (782, 0.06900655593423542), (796, 0.06900655593423542), (797, 0.06900655593423542), (805, 0.06900655593423542), (808, 0.06900655593423542), (817, 0.06900655593423542), (857, 0.06900655593423542), (892, 0.06900655593423542), (895, 0.06900655593423542), (897, 0.06900655593423542), (914, 0.06900655593423542), (923, 0.06900655593423542), (944, 0.06900655593423542), (949, 0.06900655593423542), (955, 0.06900655593423542), (958, 0.06900655593423542), (1, 0.0668153104781061), (42, 0.0668153104781061), (76, 0.0668153104781061), (102, 0.0668153104781061), (131, 0.0668153104781061), (168, 0.0668153104781061), (187, 0.0668153104781061), (196, 0.0668153104781061), (219, 0.0668153104781061), (221, 0.0668153104781061), (231, 0.0668153104781061), (280, 0.0668153104781061), (305, 0.0668153104781061), (307, 0.0668153104781061), (315, 0.0668153104781061), (323, 0.0668153104781061), (342, 0.0668153104781061), (374, 0.0668153104781061), (427, 0.0668153104781061), (445, 0.0668153104781061), (475, 0.0668153104781061), (490, 0.0668153104781061), (498, 0.0668153104781061), (502, 0.0668153104781061), (532, 0.0668153104781061), (533, 0.0668153104781061), (542, 0.0668153104781061), (563, 0.0668153104781061), (574, 0.0668153104781061), (579, 0.0668153104781061), (585, 0.0668153104781061), (593, 0.0668153104781061), (596, 0.0668153104781061), (607, 0.0668153104781061), (636, 0.0668153104781061), (658, 0.0668153104781061), (685, 0.0668153104781061), (705, 0.0668153104781061), (724, 0.0668153104781061), (737, 0.0668153104781061), (747, 0.0668153104781061), (775, 0.0668153104781061), (791, 0.0668153104781061), (814, 0.0668153104781061), (838, 0.0668153104781061), (840, 0.0668153104781061), (847, 0.0668153104781061), (872, 0.0668153104781061), (912, 0.0668153104781061), (936, 0.0668153104781061), (940, 0.0668153104781061), (954, 0.0668153104781061), (957, 0.0668153104781061), (960, 0.0668153104781061), (972, 0.0668153104781061), (985, 0.0668153104781061), (15, 0.06482037235521644), (88, 0.06482037235521644), (151, 0.06482037235521644), (197, 0.06482037235521644), (224, 0.06482037235521644), (238, 0.06482037235521644), (271, 0.06482037235521644), (286, 0.06482037235521644), (296, 0.06482037235521644), (378, 0.06482037235521644), (505, 0.06482037235521644), (525, 0.06482037235521644), (547, 0.06482037235521644), (628, 0.06482037235521644), (655, 0.06482037235521644), (689, 0.06482037235521644), (690, 0.06482037235521644), (700, 0.06482037235521644), (711, 0.06482037235521644), (714, 0.06482037235521644), (732, 0.06482037235521644), (741, 0.06482037235521644), (798, 0.06482037235521644), (799, 0.06482037235521644), (852, 0.06482037235521644), (917, 0.06482037235521644), (938, 0.06482037235521644), (941, 0.06482037235521644), (995, 0.06482037235521644), (82, 0.06299407883487121), (155, 0.06299407883487121), (171, 0.06299407883487121), (290, 0.06299407883487121), (371, 0.06299407883487121), (423, 0.06299407883487121), (440, 0.06299407883487121), (447, 0.06299407883487121), (506, 0.06299407883487121), (539, 0.06299407883487121), (667, 0.06299407883487121), (674, 0.06299407883487121), (708, 0.06299407883487121), (773, 0.06299407883487121), (821, 0.06299407883487121), (837, 0.06299407883487121), (894, 0.06299407883487121), (975, 0.06299407883487121), (34, 0.06131393394849658), (110, 0.06131393394849658), (120, 0.06131393394849658), (122, 0.06131393394849658), (158, 0.06131393394849658), (306, 0.06131393394849658), (320, 0.06131393394849658), (366, 0.06131393394849658), (429, 0.06131393394849658), (604, 0.06131393394849658), (889, 0.06131393394849658), (921, 0.06131393394849658), (925, 0.06131393394849658), (10, 0.05976143046671968), (62, 0.05976143046671968), (114, 0.05976143046671968), (418, 0.05976143046671968), (422, 0.05976143046671968), (473, 0.05976143046671968), (500, 0.05976143046671968), (518, 0.05976143046671968), (583, 0.05976143046671968), (683, 0.05976143046671968), (749, 0.05976143046671968), (910, 0.05976143046671968), (953, 0.05976143046671968), (135, 0.058321184351980436), (223, 0.058321184351980436), (679, 0.058321184351980436), (803, 0.058321184351980436), (935, 0.058321184351980436), (314, 0.05572782125753529), (244, 0.054554472558998104), (257, 0.053452248382484885), (313, 0.05241424183609592), (613, 0.05241424183609592), (2, 0.0), (3, 0.0), (6, 0.0), (7, 0.0), (11, 0.0), (16, 0.0), (18, 0.0), (19, 0.0), (21, 0.0), (25, 0.0), (27, 0.0), (28, 0.0), (30, 0.0), (39, 0.0), (41, 0.0), (43, 0.0), (44, 0.0), (46, 0.0), (49, 0.0), (52, 0.0), (57, 0.0), (58, 0.0), (61, 0.0), (63, 0.0), (64, 0.0), (66, 0.0), (68, 0.0), (70, 0.0), (73, 0.0), (81, 0.0), (96, 0.0), (97, 0.0), (98, 0.0), (106, 0.0), (108, 0.0), (109, 0.0), (111, 0.0), (112, 0.0), (115, 0.0), (116, 0.0), (118, 0.0), (128, 0.0), (130, 0.0), (132, 0.0), (133, 0.0), (137, 0.0), (139, 0.0), (141, 0.0), (142, 0.0), (143, 0.0), (144, 0.0), (145, 0.0), (146, 0.0), (148, 0.0), (152, 0.0), (154, 0.0), (157, 0.0), (165, 0.0), (167, 0.0), (173, 0.0), (178, 0.0), (181, 0.0), (182, 0.0), (184, 0.0), (185, 0.0), (186, 0.0), (189, 0.0), (190, 0.0), (191, 0.0), (193, 0.0), (198, 0.0), (201, 0.0), (202, 0.0), (206, 0.0), (207, 0.0), (208, 0.0), (209, 0.0), (211, 0.0), (218, 0.0), (222, 0.0), (225, 0.0), (226, 0.0), (229, 0.0), (230, 0.0), (235, 0.0), (236, 0.0), (237, 0.0), (246, 0.0), (247, 0.0), (249, 0.0), (250, 0.0), (251, 0.0), (252, 0.0), (255, 0.0), (258, 0.0), (259, 0.0), (260, 0.0), (261, 0.0), (262, 0.0), (263, 0.0), (265, 0.0), (266, 0.0), (269, 0.0), (273, 0.0), (278, 0.0), (282, 0.0), (289, 0.0), (291, 0.0), (292, 0.0), (293, 0.0), (295, 0.0), (297, 0.0), (299, 0.0), (302, 0.0), (304, 0.0), (309, 0.0), (310, 0.0), (311, 0.0), (312, 0.0), (318, 0.0), (321, 0.0), (324, 0.0), (326, 0.0), (327, 0.0), (332, 0.0), (333, 0.0), (335, 0.0), (336, 0.0), (337, 0.0), (338, 0.0), (339, 0.0), (348, 0.0), (349, 0.0), (350, 0.0), (351, 0.0), (352, 0.0), (353, 0.0), (356, 0.0), (358, 0.0), (359, 0.0), (360, 0.0), (361, 0.0), (364, 0.0), (365, 0.0), (367, 0.0), (377, 0.0), (380, 0.0), (381, 0.0), (382, 0.0), (392, 0.0), (393, 0.0), (394, 0.0), (395, 0.0), (397, 0.0), (399, 0.0), (401, 0.0), (404, 0.0), (405, 0.0), (406, 0.0), (411, 0.0), (415, 0.0), (416, 0.0), (417, 0.0), (419, 0.0), (421, 0.0), (425, 0.0), (428, 0.0), (436, 0.0), (439, 0.0), (441, 0.0), (442, 0.0), (443, 0.0), (444, 0.0), (449, 0.0), (451, 0.0), (455, 0.0), (456, 0.0), (458, 0.0), (459, 0.0), (461, 0.0), (463, 0.0), (467, 0.0), (471, 0.0), (476, 0.0), (477, 0.0), (478, 0.0), (479, 0.0), (480, 0.0), (481, 0.0), (483, 0.0), (486, 0.0), (487, 0.0), (489, 0.0), (494, 0.0), (495, 0.0), (497, 0.0), (501, 0.0), (503, 0.0), (504, 0.0), (507, 0.0), (508, 0.0), (509, 0.0), (510, 0.0), (512, 0.0), (514, 0.0), (515, 0.0), (519, 0.0), (520, 0.0), (523, 0.0), (530, 0.0), (531, 0.0), (534, 0.0), (540, 0.0), (541, 0.0), (543, 0.0), (544, 0.0), (545, 0.0), (546, 0.0), (549, 0.0), (550, 0.0), (551, 0.0), (553, 0.0), (554, 0.0), (555, 0.0), (556, 0.0), (561, 0.0), (562, 0.0), (567, 0.0), (570, 0.0), (571, 0.0), (572, 0.0), (573, 0.0), (582, 0.0), (584, 0.0), (586, 0.0), (590, 0.0), (591, 0.0), (594, 0.0), (595, 0.0), (602, 0.0), (605, 0.0), (606, 0.0), (608, 0.0), (610, 0.0), (611, 0.0), (612, 0.0), (614, 0.0), (616, 0.0), (622, 0.0), (623, 0.0), (627, 0.0), (630, 0.0), (631, 0.0), (632, 0.0), (633, 0.0), (635, 0.0), (638, 0.0), (639, 0.0), (640, 0.0), (641, 0.0), (642, 0.0), (643, 0.0), (644, 0.0), (645, 0.0), (646, 0.0), (647, 0.0), (648, 0.0), (650, 0.0), (652, 0.0), (653, 0.0), (654, 0.0), (656, 0.0), (659, 0.0), (661, 0.0), (664, 0.0), (665, 0.0), (672, 0.0), (675, 0.0), (677, 0.0), (678, 0.0), (681, 0.0), (682, 0.0), (684, 0.0), (686, 0.0), (692, 0.0), (695, 0.0), (696, 0.0), (697, 0.0), (699, 0.0), (701, 0.0), (706, 0.0), (707, 0.0), (713, 0.0), (715, 0.0), (716, 0.0), (717, 0.0), (719, 0.0), (720, 0.0), (722, 0.0), (723, 0.0), (725, 0.0), (726, 0.0), (727, 0.0), (729, 0.0), (730, 0.0), (734, 0.0), (736, 0.0), (738, 0.0), (742, 0.0), (744, 0.0), (745, 0.0), (746, 0.0), (748, 0.0), (751, 0.0), (754, 0.0), (756, 0.0), (757, 0.0), (761, 0.0), (762, 0.0), (764, 0.0), (768, 0.0), (774, 0.0), (776, 0.0), (778, 0.0), (779, 0.0), (783, 0.0), (784, 0.0), (786, 0.0), (788, 0.0), (790, 0.0), (792, 0.0), (793, 0.0), (795, 0.0), (800, 0.0), (804, 0.0), (807, 0.0), (811, 0.0), (812, 0.0), (813, 0.0), (818, 0.0), (819, 0.0), (820, 0.0), (823, 0.0), (824, 0.0), (825, 0.0), (826, 0.0), (829, 0.0), (830, 0.0), (831, 0.0), (832, 0.0), (835, 0.0), (839, 0.0), (841, 0.0), (842, 0.0), (845, 0.0), (848, 0.0), (849, 0.0), (851, 0.0), (853, 0.0), (855, 0.0), (858, 0.0), (859, 0.0), (860, 0.0), (861, 0.0), (862, 0.0), (864, 0.0), (865, 0.0), (866, 0.0), (867, 0.0), (868, 0.0), (870, 0.0), (874, 0.0), (875, 0.0), (876, 0.0), (877, 0.0), (882, 0.0), (884, 0.0), (885, 0.0), (886, 0.0), (887, 0.0), (888, 0.0), (891, 0.0), (893, 0.0), (896, 0.0), (898, 0.0), (899, 0.0), (900, 0.0), (902, 0.0), (905, 0.0), (906, 0.0), (908, 0.0), (909, 0.0), (911, 0.0), (913, 0.0), (915, 0.0), (922, 0.0), (926, 0.0), (927, 0.0), (928, 0.0), (929, 0.0), (930, 0.0), (931, 0.0), (932, 0.0), (933, 0.0), (934, 0.0), (937, 0.0), (939, 0.0), (942, 0.0), (943, 0.0), (945, 0.0), (946, 0.0), (950, 0.0), (951, 0.0), (952, 0.0), (961, 0.0), (962, 0.0), (964, 0.0), (965, 0.0), (970, 0.0), (971, 0.0), (973, 0.0), (974, 0.0), (976, 0.0), (977, 0.0), (978, 0.0), (979, 0.0), (980, 0.0), (981, 0.0), (982, 0.0), (983, 0.0), (986, 0.0), (987, 0.0), (988, 0.0), (989, 0.0), (992, 0.0), (994, 0.0), (996, 0.0), (997, 0.0), (999, 0.0)]\n"
     ]
    }
   ],
   "source": [
    "#printing the sorted scores\n",
    "print(sorted_scores)\n",
    "#we will get movie_id and the similarity scpre of each movie"
   ]
  },
  {
   "cell_type": "code",
   "execution_count": 56,
   "metadata": {},
   "outputs": [
    {
     "name": "stdout",
     "output_type": "stream",
     "text": [
      "5 most recommended movies to Inferno are:\n",
      "\n",
      "1 Warcraft\n",
      "2 Collide\n",
      "3 In the Heart of the Sea\n",
      "4 Rogue One\n",
      "5 The Amazing Spider-Man\n"
     ]
    }
   ],
   "source": [
    "#creating a loop for printing only the first 5 similar movies\n",
    "#these will be the recommended movies\n",
    "k=0\n",
    "print(\"5 most recommended movies to\", title, 'are:\\n')\n",
    "for i in sorted_scores:\n",
    "    movie_title = m_v[m_v.Movie_id == i[0]]['Title'].values[0]\n",
    "    print(k+1, movie_title)\n",
    "    k = k+1\n",
    "    if k>4:\n",
    "        break"
   ]
  },
  {
   "cell_type": "code",
   "execution_count": null,
   "metadata": {},
   "outputs": [],
   "source": []
  },
  {
   "cell_type": "code",
   "execution_count": null,
   "metadata": {},
   "outputs": [],
   "source": []
  }
 ],
 "metadata": {
  "kernelspec": {
   "display_name": "Python 3",
   "language": "python",
   "name": "python3"
  },
  "language_info": {
   "codemirror_mode": {
    "name": "ipython",
    "version": 3
   },
   "file_extension": ".py",
   "mimetype": "text/x-python",
   "name": "python",
   "nbconvert_exporter": "python",
   "pygments_lexer": "ipython3",
   "version": "3.7.9"
  }
 },
 "nbformat": 4,
 "nbformat_minor": 4
}
