{
 "cells": [
  {
   "cell_type": "code",
   "execution_count": 29,
   "metadata": {},
   "outputs": [],
   "source": [
    "#using LSTM which is long short term memory\n",
    "#using to predict stock price of a corporation\n",
    "#importing the libraries\n",
    "import pandas_datareader as web\n",
    "import math\n",
    "import numpy as np\n",
    "import pandas as pd\n",
    "from sklearn.preprocessing import MinMaxScaler\n",
    "from keras.layers import Dense, LSTM\n",
    "from keras.models import Sequential\n",
    "import matplotlib.pyplot as plt"
   ]
  },
  {
   "cell_type": "code",
   "execution_count": 30,
   "metadata": {},
   "outputs": [
    {
     "data": {
      "text/html": [
       "<div>\n",
       "<style scoped>\n",
       "    .dataframe tbody tr th:only-of-type {\n",
       "        vertical-align: middle;\n",
       "    }\n",
       "\n",
       "    .dataframe tbody tr th {\n",
       "        vertical-align: top;\n",
       "    }\n",
       "\n",
       "    .dataframe thead th {\n",
       "        text-align: right;\n",
       "    }\n",
       "</style>\n",
       "<table border=\"1\" class=\"dataframe\">\n",
       "  <thead>\n",
       "    <tr style=\"text-align: right;\">\n",
       "      <th></th>\n",
       "      <th>High</th>\n",
       "      <th>Low</th>\n",
       "      <th>Open</th>\n",
       "      <th>Close</th>\n",
       "      <th>Volume</th>\n",
       "      <th>Adj Close</th>\n",
       "    </tr>\n",
       "    <tr>\n",
       "      <th>Date</th>\n",
       "      <th></th>\n",
       "      <th></th>\n",
       "      <th></th>\n",
       "      <th></th>\n",
       "      <th></th>\n",
       "      <th></th>\n",
       "    </tr>\n",
       "  </thead>\n",
       "  <tbody>\n",
       "    <tr>\n",
       "      <th>2009-12-31</th>\n",
       "      <td>7.619643</td>\n",
       "      <td>7.520000</td>\n",
       "      <td>7.611786</td>\n",
       "      <td>7.526072</td>\n",
       "      <td>352410800.0</td>\n",
       "      <td>6.439648</td>\n",
       "    </tr>\n",
       "    <tr>\n",
       "      <th>2010-01-04</th>\n",
       "      <td>7.660714</td>\n",
       "      <td>7.585000</td>\n",
       "      <td>7.622500</td>\n",
       "      <td>7.643214</td>\n",
       "      <td>493729600.0</td>\n",
       "      <td>6.539882</td>\n",
       "    </tr>\n",
       "    <tr>\n",
       "      <th>2010-01-05</th>\n",
       "      <td>7.699643</td>\n",
       "      <td>7.616071</td>\n",
       "      <td>7.664286</td>\n",
       "      <td>7.656428</td>\n",
       "      <td>601904800.0</td>\n",
       "      <td>6.551187</td>\n",
       "    </tr>\n",
       "    <tr>\n",
       "      <th>2010-01-06</th>\n",
       "      <td>7.686786</td>\n",
       "      <td>7.526786</td>\n",
       "      <td>7.656428</td>\n",
       "      <td>7.534643</td>\n",
       "      <td>552160000.0</td>\n",
       "      <td>6.446983</td>\n",
       "    </tr>\n",
       "    <tr>\n",
       "      <th>2010-01-07</th>\n",
       "      <td>7.571429</td>\n",
       "      <td>7.466072</td>\n",
       "      <td>7.562500</td>\n",
       "      <td>7.520714</td>\n",
       "      <td>477131200.0</td>\n",
       "      <td>6.435065</td>\n",
       "    </tr>\n",
       "    <tr>\n",
       "      <th>...</th>\n",
       "      <td>...</td>\n",
       "      <td>...</td>\n",
       "      <td>...</td>\n",
       "      <td>...</td>\n",
       "      <td>...</td>\n",
       "      <td>...</td>\n",
       "    </tr>\n",
       "    <tr>\n",
       "      <th>2018-08-02</th>\n",
       "      <td>52.095001</td>\n",
       "      <td>50.087502</td>\n",
       "      <td>50.145000</td>\n",
       "      <td>51.847500</td>\n",
       "      <td>249616000.0</td>\n",
       "      <td>49.881802</td>\n",
       "    </tr>\n",
       "    <tr>\n",
       "      <th>2018-08-03</th>\n",
       "      <td>52.185001</td>\n",
       "      <td>51.369999</td>\n",
       "      <td>51.757500</td>\n",
       "      <td>51.997501</td>\n",
       "      <td>133789600.0</td>\n",
       "      <td>50.026119</td>\n",
       "    </tr>\n",
       "    <tr>\n",
       "      <th>2018-08-06</th>\n",
       "      <td>52.312500</td>\n",
       "      <td>51.767502</td>\n",
       "      <td>52.000000</td>\n",
       "      <td>52.267502</td>\n",
       "      <td>101701600.0</td>\n",
       "      <td>50.285881</td>\n",
       "    </tr>\n",
       "    <tr>\n",
       "      <th>2018-08-07</th>\n",
       "      <td>52.375000</td>\n",
       "      <td>51.689999</td>\n",
       "      <td>52.330002</td>\n",
       "      <td>51.777500</td>\n",
       "      <td>102349600.0</td>\n",
       "      <td>49.814457</td>\n",
       "    </tr>\n",
       "    <tr>\n",
       "      <th>2018-08-08</th>\n",
       "      <td>51.952499</td>\n",
       "      <td>51.130001</td>\n",
       "      <td>51.512501</td>\n",
       "      <td>51.812500</td>\n",
       "      <td>90102000.0</td>\n",
       "      <td>49.848133</td>\n",
       "    </tr>\n",
       "  </tbody>\n",
       "</table>\n",
       "<p>2166 rows × 6 columns</p>\n",
       "</div>"
      ],
      "text/plain": [
       "                 High        Low       Open      Close       Volume  Adj Close\n",
       "Date                                                                          \n",
       "2009-12-31   7.619643   7.520000   7.611786   7.526072  352410800.0   6.439648\n",
       "2010-01-04   7.660714   7.585000   7.622500   7.643214  493729600.0   6.539882\n",
       "2010-01-05   7.699643   7.616071   7.664286   7.656428  601904800.0   6.551187\n",
       "2010-01-06   7.686786   7.526786   7.656428   7.534643  552160000.0   6.446983\n",
       "2010-01-07   7.571429   7.466072   7.562500   7.520714  477131200.0   6.435065\n",
       "...               ...        ...        ...        ...          ...        ...\n",
       "2018-08-02  52.095001  50.087502  50.145000  51.847500  249616000.0  49.881802\n",
       "2018-08-03  52.185001  51.369999  51.757500  51.997501  133789600.0  50.026119\n",
       "2018-08-06  52.312500  51.767502  52.000000  52.267502  101701600.0  50.285881\n",
       "2018-08-07  52.375000  51.689999  52.330002  51.777500  102349600.0  49.814457\n",
       "2018-08-08  51.952499  51.130001  51.512501  51.812500   90102000.0  49.848133\n",
       "\n",
       "[2166 rows x 6 columns]"
      ]
     },
     "execution_count": 30,
     "metadata": {},
     "output_type": "execute_result"
    }
   ],
   "source": [
    "#getting the stock info\n",
    "s_info = web.DataReader('AAPL', data_source='yahoo', start='2010-01-01', end='2018-08-08')\n",
    "#showing the data\n",
    "s_info"
   ]
  },
  {
   "cell_type": "code",
   "execution_count": 31,
   "metadata": {},
   "outputs": [
    {
     "data": {
      "text/plain": [
       "(2166, 6)"
      ]
     },
     "execution_count": 31,
     "metadata": {},
     "output_type": "execute_result"
    }
   ],
   "source": [
    "#checking the number of rows and columns\n",
    "s_info.shape"
   ]
  },
  {
   "cell_type": "code",
   "execution_count": 32,
   "metadata": {},
   "outputs": [
    {
     "data": {
      "image/png": "[encoded data removed]",
      "text/plain": [
       "<Figure size 1152x576 with 1 Axes>"
      ]
     },
     "metadata": {
      "needs_background": "light"
     },
     "output_type": "display_data"
    }
   ],
   "source": [
    "#visualizing the closing price history\n",
    "plt.figure(figsize=(16,8))\n",
    "plt.title('Closing price history')\n",
    "plt.plot(s_info['Close'])\n",
    "plt.xlabel(\"Data\")\n",
    "plt.ylabel('Closing price in USD')\n",
    "plt.show()"
   ]
  },
  {
   "cell_type": "code",
   "execution_count": 33,
   "metadata": {},
   "outputs": [],
   "source": [
    "#creating a dataframe which consists of only close column\n",
    "data = s_info.filter(['Close'])\n",
    "#coverting dataframe to numpy array\n",
    "dataset = data.values"
   ]
  },
  {
   "cell_type": "code",
   "execution_count": 34,
   "metadata": {},
   "outputs": [],
   "source": [
    "#getting the number f rows to train\n",
    "#taking 80% as training\n",
    "train_data_len = math.ceil(len(dataset)*.8)"
   ]
  },
  {
   "cell_type": "code",
   "execution_count": 35,
   "metadata": {},
   "outputs": [
    {
     "data": {
      "text/plain": [
       "1733"
      ]
     },
     "execution_count": 35,
     "metadata": {},
     "output_type": "execute_result"
    }
   ],
   "source": [
    "#checfking the length of traning data\n",
    "train_data_len"
   ]
  },
  {
   "cell_type": "code",
   "execution_count": 36,
   "metadata": {},
   "outputs": [
    {
     "data": {
      "text/plain": [
       "array([[0.014692  ],\n",
       "       [0.01727175],\n",
       "       [0.01756276],\n",
       "       ...,\n",
       "       [1.        ],\n",
       "       [0.98920905],\n",
       "       [0.98997983]])"
      ]
     },
     "execution_count": 36,
     "metadata": {},
     "output_type": "execute_result"
    }
   ],
   "source": [
    "#scaling the data\n",
    "scaler = MinMaxScaler(feature_range=(0,1))\n",
    "#computes the min and max value for scaling and transforms data based of those 2 values\n",
    "#values can be 0 or 1 or anything in between\n",
    "scaled_data = scaler.fit_transform(dataset)\n",
    "scaled_data"
   ]
  },
  {
   "cell_type": "code",
   "execution_count": 37,
   "metadata": {},
   "outputs": [],
   "source": [
    "#creating the training dataset\n",
    "#so first we should create scaled training set\n",
    "train_data = scaled_data[0:train_data_len, :]"
   ]
  },
  {
   "cell_type": "code",
   "execution_count": 38,
   "metadata": {},
   "outputs": [
    {
     "name": "stdout",
     "output_type": "stream",
     "text": [
      "[array([1.46920025e-02, 1.72717505e-02, 1.75627553e-02, 1.48807586e-02,\n",
      "       1.45740233e-02, 1.56751411e-02, 1.42043657e-02, 1.23246064e-02,\n",
      "       1.46290802e-02, 1.36695374e-02, 1.09167532e-02, 1.80818531e-02,\n",
      "       1.54785092e-02, 1.25998806e-02, 4.48310320e-03, 8.66733635e-03,\n",
      "       1.09246185e-02, 1.24504509e-02, 5.69432444e-03, 7.86527756e-06,\n",
      "       2.10784188e-03, 2.99659724e-03, 5.64713278e-03, 0.00000000e+00,\n",
      "       2.68199664e-03, 1.62807045e-03, 3.25615140e-03, 2.41458771e-03,\n",
      "       5.20668773e-03, 6.55161869e-03, 8.92688001e-03, 8.25835242e-03,\n",
      "       8.55722247e-03, 7.56621850e-03, 6.58307980e-03, 3.94040955e-03,\n",
      "       6.77184646e-03, 7.82577266e-03, 9.88642287e-03, 1.33234757e-02,\n",
      "       1.32133618e-02, 1.35908846e-02, 1.46762719e-02, 2.11571136e-02,\n",
      "       2.12593517e-02, 2.43582081e-02, 2.57896466e-02, 2.63087549e-02,\n",
      "       2.71739144e-02, 2.50031398e-02, 2.54829112e-02, 2.52233676e-02,\n",
      "       2.56402168e-02, 2.37525922e-02, 2.57188696e-02, 2.85581613e-02,\n",
      "       2.93525438e-02, 2.72132303e-02, 3.05558998e-02, 3.17277946e-02])]\n",
      "[0.03444911763976988]\n",
      "\n"
     ]
    }
   ],
   "source": [
    "#spliting the data into x_train and y_train datasets\n",
    "x_train =[]\n",
    "y_train =[]\n",
    "\n",
    "for i in range(60,len(train_data)):\n",
    "    #appending 60 values to x_train dataset\n",
    "    x_train.append(train_data[i-60:i,0]) #0 to 59 values\n",
    "    y_train.append(train_data[i,0]) #values after 60\n",
    "    if i<=60:\n",
    "        print(x_train)\n",
    "        print(y_train)\n",
    "        print()"
   ]
  },
  {
   "cell_type": "code",
   "execution_count": 39,
   "metadata": {},
   "outputs": [],
   "source": [
    "#converting x_train and y_train to numpy arrays for training them in LSTM\n",
    "x_train, y_train = np.array(x_train), np.array(y_train)"
   ]
  },
  {
   "cell_type": "code",
   "execution_count": 40,
   "metadata": {},
   "outputs": [
    {
     "data": {
      "text/plain": [
       "(1673, 60)"
      ]
     },
     "execution_count": 40,
     "metadata": {},
     "output_type": "execute_result"
    }
   ],
   "source": [
    "#reshaping the data\n",
    "# we should reshape the data coz lstm wants 3D image, no of smaples, time stamps and features\n",
    "#so we are converting input image from 2D t0 3D\n",
    "x_train.shape"
   ]
  },
  {
   "cell_type": "code",
   "execution_count": 41,
   "metadata": {},
   "outputs": [
    {
     "data": {
      "text/plain": [
       "(1673, 60, 1)"
      ]
     },
     "execution_count": 41,
     "metadata": {},
     "output_type": "execute_result"
    }
   ],
   "source": [
    "#so cinverting image from 2d to 3d\n",
    "x_train = np.reshape(x_train, (1673, 60, 1))\n",
    "#here no of smamples is the no of rows, timestamps are no of columns and featires are 1\n",
    "x_train.shape"
   ]
  },
  {
   "cell_type": "code",
   "execution_count": 47,
   "metadata": {},
   "outputs": [],
   "source": [
    "#building LSTM model\n",
    "model = Sequential()\n",
    "#adding LSTM layers giving 50 layers\n",
    "model.add(LSTM(50, return_sequences= True, input_shape= (x_train.shape[1],1)))\n",
    "#adding second lstm layer\n",
    "model.add(LSTM(50, return_sequences= False))\n",
    "model.add(Dense(25))\n",
    "model.add(Dense(1))"
   ]
  },
  {
   "cell_type": "code",
   "execution_count": 48,
   "metadata": {},
   "outputs": [],
   "source": [
    "#compling the model\n",
    "model.compile(optimizer='adam', loss = 'mean_squared_error')\n",
    "#we use adam optimizer\n",
    "#we use mean_squared_error loss function\n",
    "#in optimizers are used to improve the loss function and loss functions helps us to know how well model did on training "
   ]
  },
  {
   "cell_type": "code",
   "execution_count": 49,
   "metadata": {},
   "outputs": [
    {
     "name": "stdout",
     "output_type": "stream",
     "text": [
      "1673/1673 [==============================] - 100s 60ms/step - loss: 6.5250e-04\n"
     ]
    },
    {
     "data": {
      "text/plain": [
       "<tensorflow.python.keras.callbacks.History at 0x1e065785b48>"
      ]
     },
     "execution_count": 49,
     "metadata": {},
     "output_type": "execute_result"
    }
   ],
   "source": [
    "#training the model\n",
    "model.fit(x_train, y_train, batch_size =1, epochs = 1)\n",
    "#eopch is the no of iterations the dataset should perform"
   ]
  },
  {
   "cell_type": "code",
   "execution_count": 50,
   "metadata": {},
   "outputs": [],
   "source": [
    "#now creating testing dataset\n",
    "test_data = scaled_data[train_data_len - 60: , :]\n",
    "#creating the datasets x_test and y_test\n",
    "x_test =[]\n",
    "y_test = dataset[train_data_len:, :]\n",
    "#creating x_test\n",
    "for i in range(60, len(test_data)):\n",
    "    #appending past 60 values to x_test dataset\n",
    "    x_test.append(test_data[i-60:i, 0])\n",
    "    \n"
   ]
  },
  {
   "cell_type": "code",
   "execution_count": 51,
   "metadata": {},
   "outputs": [],
   "source": [
    "#converting data to numpy\n",
    "x_test = np.array(x_test)"
   ]
  },
  {
   "cell_type": "code",
   "execution_count": 52,
   "metadata": {},
   "outputs": [],
   "source": [
    "#reshaping data for lstm (2D to 3D)\n",
    "x_test = np.reshape(x_test, (x_test.shape[0], x_test.shape[1], 1))"
   ]
  },
  {
   "cell_type": "code",
   "execution_count": 53,
   "metadata": {},
   "outputs": [],
   "source": [
    "#getting the models predicted price values for x_test dataset\n",
    "predictions = model.predict(x_test)\n",
    "#inverse transform the data\n",
    "predictions = scaler.inverse_transform(predictions)\n",
    "#we want predictions to contain same values that y_test dataset contains\n"
   ]
  },
  {
   "cell_type": "code",
   "execution_count": 54,
   "metadata": {},
   "outputs": [
    {
     "data": {
      "text/plain": [
       "2.2183963960643176"
      ]
     },
     "execution_count": 54,
     "metadata": {},
     "output_type": "execute_result"
    }
   ],
   "source": [
    "#evaluating our model\n",
    "#by getting root mean square error\n",
    "#rmse is good measure of how accurate the model predicts the respose\n",
    "#it is it standard deviation of residuals and lower values of rsme can better fit\n",
    "rmse = np.sqrt(np.mean(predictions-y_test)**2)\n",
    "rmse"
   ]
  },
  {
   "cell_type": "code",
   "execution_count": 56,
   "metadata": {},
   "outputs": [
    {
     "name": "stderr",
     "output_type": "stream",
     "text": [
      "G:\\anac\\lib\\site-packages\\ipykernel_launcher.py:4: SettingWithCopyWarning: \n",
      "A value is trying to be set on a copy of a slice from a DataFrame.\n",
      "Try using .loc[row_indexer,col_indexer] = value instead\n",
      "\n",
      "See the caveats in the documentation: https://pandas.pydata.org/pandas-docs/stable/user_guide/indexing.html#returning-a-view-versus-a-copy\n",
      "  after removing the cwd from sys.path.\n"
     ]
    },
    {
     "data": {
      "image/png": "[encoded data removed]",
      "text/plain": [
       "<Figure size 1152x576 with 1 Axes>"
      ]
     },
     "metadata": {
      "needs_background": "light"
     },
     "output_type": "display_data"
    }
   ],
   "source": [
    "#plot the data\n",
    "train = data[:train_data_len]\n",
    "validation = data[train_data_len:]\n",
    "validation['Predictions'] = predictions\n",
    "#visualizing the data\n",
    "plt.figure(figsize=(16,8))\n",
    "plt.title('MODEL')\n",
    "plt.xlabel('Date')\n",
    "plt.ylabel('Closing price in USD')\n",
    "plt.plot(train['Close'])\n",
    "plt.plot(validation[['Close', 'Predictions']])\n",
    "plt.legend(['Train', 'Val', 'Predictions'], loc = 'lower right')\n",
    "plt.show()"
   ]
  },
  {
   "cell_type": "code",
   "execution_count": 57,
   "metadata": {},
   "outputs": [],
   "source": [
    "#blue is the data where its been trained on\n",
    "#reddish orange is the actual values for rest of the days\n",
    "#green is the predicted value"
   ]
  },
  {
   "cell_type": "code",
   "execution_count": 58,
   "metadata": {},
   "outputs": [
    {
     "data": {
      "text/html": [
       "<div>\n",
       "<style scoped>\n",
       "    .dataframe tbody tr th:only-of-type {\n",
       "        vertical-align: middle;\n",
       "    }\n",
       "\n",
       "    .dataframe tbody tr th {\n",
       "        vertical-align: top;\n",
       "    }\n",
       "\n",
       "    .dataframe thead th {\n",
       "        text-align: right;\n",
       "    }\n",
       "</style>\n",
       "<table border=\"1\" class=\"dataframe\">\n",
       "  <thead>\n",
       "    <tr style=\"text-align: right;\">\n",
       "      <th></th>\n",
       "      <th>Close</th>\n",
       "      <th>Predictions</th>\n",
       "    </tr>\n",
       "    <tr>\n",
       "      <th>Date</th>\n",
       "      <th></th>\n",
       "      <th></th>\n",
       "    </tr>\n",
       "  </thead>\n",
       "  <tbody>\n",
       "    <tr>\n",
       "      <th>2016-11-17</th>\n",
       "      <td>27.487499</td>\n",
       "      <td>26.322044</td>\n",
       "    </tr>\n",
       "    <tr>\n",
       "      <th>2016-11-18</th>\n",
       "      <td>27.514999</td>\n",
       "      <td>26.372160</td>\n",
       "    </tr>\n",
       "    <tr>\n",
       "      <th>2016-11-21</th>\n",
       "      <td>27.932501</td>\n",
       "      <td>26.444452</td>\n",
       "    </tr>\n",
       "    <tr>\n",
       "      <th>2016-11-22</th>\n",
       "      <td>27.950001</td>\n",
       "      <td>26.573696</td>\n",
       "    </tr>\n",
       "    <tr>\n",
       "      <th>2016-11-23</th>\n",
       "      <td>27.807501</td>\n",
       "      <td>26.709782</td>\n",
       "    </tr>\n",
       "    <tr>\n",
       "      <th>...</th>\n",
       "      <td>...</td>\n",
       "      <td>...</td>\n",
       "    </tr>\n",
       "    <tr>\n",
       "      <th>2018-08-02</th>\n",
       "      <td>51.847500</td>\n",
       "      <td>45.083397</td>\n",
       "    </tr>\n",
       "    <tr>\n",
       "      <th>2018-08-03</th>\n",
       "      <td>51.997501</td>\n",
       "      <td>45.705154</td>\n",
       "    </tr>\n",
       "    <tr>\n",
       "      <th>2018-08-06</th>\n",
       "      <td>52.267502</td>\n",
       "      <td>46.358955</td>\n",
       "    </tr>\n",
       "    <tr>\n",
       "      <th>2018-08-07</th>\n",
       "      <td>51.777500</td>\n",
       "      <td>46.963829</td>\n",
       "    </tr>\n",
       "    <tr>\n",
       "      <th>2018-08-08</th>\n",
       "      <td>51.812500</td>\n",
       "      <td>47.373920</td>\n",
       "    </tr>\n",
       "  </tbody>\n",
       "</table>\n",
       "<p>433 rows × 2 columns</p>\n",
       "</div>"
      ],
      "text/plain": [
       "                Close  Predictions\n",
       "Date                              \n",
       "2016-11-17  27.487499    26.322044\n",
       "2016-11-18  27.514999    26.372160\n",
       "2016-11-21  27.932501    26.444452\n",
       "2016-11-22  27.950001    26.573696\n",
       "2016-11-23  27.807501    26.709782\n",
       "...               ...          ...\n",
       "2018-08-02  51.847500    45.083397\n",
       "2018-08-03  51.997501    45.705154\n",
       "2018-08-06  52.267502    46.358955\n",
       "2018-08-07  51.777500    46.963829\n",
       "2018-08-08  51.812500    47.373920\n",
       "\n",
       "[433 rows x 2 columns]"
      ]
     },
     "execution_count": 58,
     "metadata": {},
     "output_type": "execute_result"
    }
   ],
   "source": [
    "#to show the actual price and predicted price\n",
    "validation"
   ]
  },
  {
   "cell_type": "code",
   "execution_count": 69,
   "metadata": {},
   "outputs": [
    {
     "name": "stdout",
     "output_type": "stream",
     "text": [
      "[[47.648914]]\n"
     ]
    }
   ],
   "source": [
    "#getting predict the closing price for apple stock for a particular day\n",
    "apl_quote = web.DataReader('AAPL', data_source='yahoo', start = '2010-01-01', end='2018-08-08')\n",
    "new_info = apl_quote.filter(['Close'])\n",
    "#get the last 60 day closing prce and convert the dataframe into an array\n",
    "last_60_days = new_info[-60:].values\n",
    "#scaqle the data to be values between 0 and 1\n",
    "last_60_days_scaled = scaler.transform(last_60_days)\n",
    "#create an empty list\n",
    "X_test =[]\n",
    "#append past 60 days\n",
    "X_test.append(last_60_days_scaled)\n",
    "#convert X_test to numpy array\n",
    "X_test = np.array(X_test)\n",
    "#reshape\n",
    "X_test = np.reshape(X_test, (X_test.shape[0], X_test.shape[1],1))\n",
    "#get the predicted scaled price\n",
    "pred_price = model.predict(X_test)\n",
    "#undo the scaling\n",
    "pred_price = scaler.inverse_transform(pred_price)\n",
    "print(pred_price)"
   ]
  },
  {
   "cell_type": "code",
   "execution_count": 63,
   "metadata": {},
   "outputs": [],
   "source": [
    "#this the model predicted price"
   ]
  },
  {
   "cell_type": "code",
   "execution_count": 71,
   "metadata": {},
   "outputs": [
    {
     "name": "stdout",
     "output_type": "stream",
     "text": [
      "Date\n",
      "2019-12-17    70.102501\n",
      "2019-12-18    69.934998\n",
      "Name: Close, dtype: float64\n"
     ]
    }
   ],
   "source": [
    "#getting predict the closing price for apple stock for a particular day\n",
    "apl_quote_2 = web.DataReader('AAPL', data_source='yahoo', start = '2019-12-18', end='2019-12-18')\n",
    "print(apl_quote_2['Close'])"
   ]
  },
  {
   "cell_type": "code",
   "execution_count": null,
   "metadata": {},
   "outputs": [],
   "source": []
  }
 ],
 "metadata": {
  "kernelspec": {
   "display_name": "Python 3",
   "language": "python",
   "name": "python3"
  },
  "language_info": {
   "codemirror_mode": {
    "name": "ipython",
    "version": 3
   },
   "file_extension": ".py",
   "mimetype": "text/x-python",
   "name": "python",
   "nbconvert_exporter": "python",
   "pygments_lexer": "ipython3",
   "version": "3.7.9"
  }
 },
 "nbformat": 4,
 "nbformat_minor": 4
}
